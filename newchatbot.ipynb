{
 "cells": [
  {
   "cell_type": "code",
   "execution_count": null,
   "id": "498116e4-341e-48e4-878d-1a3844381602",
   "metadata": {},
   "outputs": [
    {
     "name": "stderr",
     "output_type": "stream",
     "text": [
      "c:\\users\\souha\\onedrive\\bureau\\chatbot_project\\myprojectenv\\lib\\site-packages\\transformers\\models\\marian\\tokenization_marian.py:175: UserWarning: Recommended: pip install sacremoses.\n",
      "  warnings.warn(\"Recommended: pip install sacremoses.\")\n",
      "Device set to use cpu\n",
      "No model was supplied, defaulted to sshleifer/distilbart-cnn-12-6 and revision a4f8f3e (https://huggingface.co/sshleifer/distilbart-cnn-12-6).\n",
      "Using a pipeline without specifying a model name and revision in production is not recommended.\n",
      "Device set to use cpu\n",
      "No model was supplied, defaulted to distilbert/distilbert-base-uncased-finetuned-sst-2-english and revision 714eb0f (https://huggingface.co/distilbert/distilbert-base-uncased-finetuned-sst-2-english).\n",
      "Using a pipeline without specifying a model name and revision in production is not recommended.\n",
      "Device set to use cpu\n"
     ]
    },
    {
     "name": "stdout",
     "output_type": "stream",
     "text": [
      "Welcome to the Advanced AI Chatbot!\n",
      "You can ask me anything by typing 'ollama' at the start.\n",
      "You can also ask to 'translate', 'summarize', or perform 'sentiment' analysis.\n"
     ]
    },
    {
     "name": "stdin",
     "output_type": "stream",
     "text": [
      "You:  translate je crois que\n"
     ]
    },
    {
     "name": "stdout",
     "output_type": "stream",
     "text": [
      "Bot: Translated Text: I think\n"
     ]
    },
    {
     "name": "stdin",
     "output_type": "stream",
     "text": [
      "You:  sentiment i love icecream\n"
     ]
    },
    {
     "name": "stdout",
     "output_type": "stream",
     "text": [
      "Bot: Sentiment: POSITIVE with score: 0.9678\n"
     ]
    },
    {
     "name": "stdin",
     "output_type": "stream",
     "text": [
      "You:  sentiment i dont like cake\n"
     ]
    },
    {
     "name": "stdout",
     "output_type": "stream",
     "text": [
      "Bot: Sentiment: NEGATIVE with score: 0.9809\n"
     ]
    },
    {
     "name": "stdin",
     "output_type": "stream",
     "text": [
      "You:  summarize [Inside Arkham, Nashton is distraught that Batman has foiled his plans. Someone in a nearby cell speaks to him] Unseen Arkham Prisoner: Isn't that just terrible? Them raining on your parade like that? What is it they say? One day you're on top, the next you're a clown. Well, let me tell you, there are worse things to be. The Riddler: Who are you? Unseen Arkham Prisoner: Well, that's the question, isn't it? Riddle me this - the less of them you have, the more one is worth. The Riddler: [whispers] A friend. [the obscured criminal begins laughing unsettlingly, only a bit at first, then slowly more maniacal, and Riddler joins in, their laughs echoing the quiet hallways of Arkham Asylum]\n"
     ]
    },
    {
     "name": "stdout",
     "output_type": "stream",
     "text": [
      "Bot: Summary:  The Riddler: Who are you? Unseen Arkham Prisoner: Riddle me this - the less of them you have, the more one is worth . The obscured criminal begins laughing unsettlingly, only a bit at first, then slowly more maniacal and Riddler joins in, their laughs echoing the quiet hallways of Arkham Asylum .\n"
     ]
    },
    {
     "name": "stdin",
     "output_type": "stream",
     "text": [
      "You:  ollama what is the capital of france ?\n"
     ]
    },
    {
     "name": "stdout",
     "output_type": "stream",
     "text": [
      "Bot: I think you meant to ask \"Who is Ollama?\" and then asked about the capital of France. Unfortunately, I don't have any information on a person named Ollama. Could you please provide more context or clarify who Ollama is? I'll be happy to try and assist you with your question about the capital of France!\n"
     ]
    },
    {
     "name": "stdin",
     "output_type": "stream",
     "text": [
      "You:  ollama the capital of france ?\n"
     ]
    },
    {
     "name": "stdout",
     "output_type": "stream",
     "text": [
      "Bot: I think you might be thinking of Paris, not Ollama. Paris is indeed the capital of France.\n",
      "\n",
      "Just to clarify, I couldn't find any information on a city called \"Ollama\" being associated with France or any other country. It's possible that it's a made-up name or a misunderstanding.\n"
     ]
    },
    {
     "name": "stdin",
     "output_type": "stream",
     "text": [
      "You:  can you give me the capital of spain ?\n"
     ]
    },
    {
     "name": "stdout",
     "output_type": "stream",
     "text": [
      "Bot: Please start your query with 'ollama' to interact with the chatbot.\n"
     ]
    },
    {
     "name": "stdin",
     "output_type": "stream",
     "text": [
      "You:  ollama can you give me the capital of spain ?\n"
     ]
    },
    {
     "name": "stdout",
     "output_type": "stream",
     "text": [
      "Bot: The capital of Spain is Madrid.\n"
     ]
    },
    {
     "name": "stdin",
     "output_type": "stream",
     "text": [
      "You:  ollama  the film of batman is great to watch ?\n"
     ]
    },
    {
     "name": "stdout",
     "output_type": "stream",
     "text": [
      "Bot: I think you meant \"Batman\" (not \"Ollama\")!\n",
      "\n",
      "Yes, the 1989 Batman film directed by Tim Burton and starring Michael Keaton as Batman/Bruce Wayne is indeed a classic and highly regarded movie in the superhero genre. It's known for its dark and gothic tone, atmospheric direction, and memorable performances.\n",
      "\n",
      "The film also stars Jack Nicholson as the Joker, Kim Basinger as Vicki Vale, and Robert Wuhl as Alex Cooper. The movie follows Bruce Wayne's origin story and his fight against the Joker's chaotic and anarchic crusade in Gotham City.\n",
      "\n",
      "Many fans of the Batman franchise consider this 1989 film to be one of the best adaptations of the character, with a strong narrative, iconic visuals, and memorable score by Danny Elfman. It has become a cult classic over the years and continues to be enjoyed by audiences today.\n",
      "\n",
      "However, it's worth noting that opinions on films are always subjective, and some people might find it too dark or campy for their taste. Nevertheless, if you're a fan of Batman or enjoy superhero movies with a darker tone, this 1989 film is definitely worth watching!\n"
     ]
    }
   ],
   "source": [
    "import ollama\n",
    "from transformers import pipeline\n",
    "\n",
    "# Initialize Ollama model\n",
    "ollama_model = ollama\n",
    "\n",
    "# Function to get a response from Ollama model\n",
    "def get_ollama_response(user_input):\n",
    "    try:\n",
    "        # Get response from Ollama\n",
    "        response = ollama.chat(model=\"llama3.2:latest\", messages=[{\"role\": \"user\", \"content\": user_input}])\n",
    "        \n",
    "        # Return the model's response text\n",
    "        return response['message']['content']\n",
    "    except Exception as e:\n",
    "        return f\"Error: {str(e)}. Please try again with a valid query.\"\n",
    "\n",
    "# Initialize Hugging Face pipelines for translation, summarization, and sentiment analysis\n",
    "translation_pipeline = pipeline('translation', model='Helsinki-NLP/opus-mt-fr-en')  \n",
    "summarization_pipeline = pipeline('summarization')\n",
    "sentiment_analysis_pipeline = pipeline('sentiment-analysis')\n",
    "\n",
    "# Function to translate text to a specified language (default to English)\n",
    "def translate_text(text, target_language='en'):\n",
    "    try:\n",
    "        translated = translation_pipeline(text)\n",
    "        return translated[0]['translation_text']\n",
    "    except Exception as e:\n",
    "        return f\"Error: {str(e)}. Please try again with a valid query.\"\n",
    "\n",
    "# Function to summarize the text using Hugging Face's summarization pipeline\n",
    "def summarize_text(text):\n",
    "    try:\n",
    "        summarized = summarization_pipeline(text)\n",
    "        return summarized[0]['summary_text']\n",
    "    except Exception as e:\n",
    "        return f\"Error: {str(e)}. Please try again with a valid query.\"\n",
    "\n",
    "# Function to perform sentiment analysis on the provided text\n",
    "def analyze_sentiment(text):\n",
    "    try:\n",
    "        sentiment = sentiment_analysis_pipeline(text)\n",
    "        return sentiment[0]\n",
    "    except Exception as e:\n",
    "        return f\"Error: {str(e)}. Please try again with a valid query.\"\n",
    "\n",
    "# Main chatbot function\n",
    "def chatbot(user_input):\n",
    "    if user_input.lower().startswith('ollama'):\n",
    "        # Get response from Ollama model\n",
    "        return get_ollama_response(user_input)\n",
    "    elif 'translate' in user_input.lower():\n",
    "        text_to_translate = user_input.replace('translate', '').strip()\n",
    "        translated_text = translate_text(text_to_translate)\n",
    "        return f\"Translated Text: {translated_text}\"\n",
    "    elif 'summarize' in user_input.lower():\n",
    "        summarized_text = summarize_text(user_input)\n",
    "        return f\"Summary: {summarized_text}\"\n",
    "    elif 'sentiment' in user_input.lower():\n",
    "        sentiment = analyze_sentiment(user_input)\n",
    "        return f\"Sentiment: {sentiment['label']} with score: {sentiment['score']:.4f}\"\n",
    "    else:\n",
    "        return \"Please start your query with 'ollama' to interact with the chatbot.\"\n",
    "\n",
    "# Chatbot interaction loop\n",
    "print(\"Welcome to the Advanced AI Chatbot!\")\n",
    "print(\"You can ask me anything by typing 'ollama' at the start.\")\n",
    "print(\"You can also ask to 'translate', 'summarize', or perform 'sentiment' analysis.\")\n",
    "\n",
    "while True:\n",
    "    user_input = input(\"You: \")\n",
    "    \n",
    "    # Exit condition\n",
    "    if user_input.lower() == 'exit':\n",
    "        print(\"Goodbye!\")\n",
    "        break\n",
    "    \n",
    "    # Get and print chatbot response\n",
    "    response = chatbot(user_input)\n",
    "    print(f\"Bot: {response}\")\n"
   ]
  },
  {
   "cell_type": "code",
   "execution_count": null,
   "id": "a442d22b-b623-4409-9f13-e8ed3811058b",
   "metadata": {},
   "outputs": [],
   "source": []
  }
 ],
 "metadata": {
  "kernelspec": {
   "display_name": "Python 3 (ipykernel)",
   "language": "python",
   "name": "python3"
  },
  "language_info": {
   "codemirror_mode": {
    "name": "ipython",
    "version": 3
   },
   "file_extension": ".py",
   "mimetype": "text/x-python",
   "name": "python",
   "nbconvert_exporter": "python",
   "pygments_lexer": "ipython3",
   "version": "3.9.0"
  }
 },
 "nbformat": 4,
 "nbformat_minor": 5
}
